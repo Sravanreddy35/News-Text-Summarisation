{
  "cells": [
    {
      "cell_type": "code",
      "execution_count": 2,
      "id": "761296cd",
      "metadata": {
        "_cell_guid": "354da293-b4a7-4866-bcb7-363d943d4b17",
        "_uuid": "759312bc-e19e-492a-b3ca-c110d3b6b413",
        "execution": {
          "iopub.execute_input": "2023-04-16T08:41:55.462206Z",
          "iopub.status.busy": "2023-04-16T08:41:55.461694Z",
          "iopub.status.idle": "2023-04-16T08:42:12.286149Z",
          "shell.execute_reply": "2023-04-16T08:42:12.285191Z"
        },
        "jupyter": {
          "outputs_hidden": false
        },
        "papermill": {
          "duration": 16.837579,
          "end_time": "2023-04-16T08:42:12.288759",
          "exception": false,
          "start_time": "2023-04-16T08:41:55.451180",
          "status": "completed"
        },
        "tags": [],
        "colab": {
          "base_uri": "https://localhost:8080/"
        },
        "id": "761296cd",
        "outputId": "efeb281d-bd98-4470-8797-65a5734e95eb"
      },
      "outputs": [
        {
          "output_type": "stream",
          "name": "stdout",
          "text": [
            "Requirement already satisfied: rouge in /usr/local/lib/python3.10/dist-packages (1.0.1)\n",
            "Requirement already satisfied: six in /usr/local/lib/python3.10/dist-packages (from rouge) (1.16.0)\n"
          ]
        }
      ],
      "source": [
        "!pip install rouge\n",
        "\n",
        "import numpy as np\n",
        "import pandas as pd\n",
        "\n",
        "import re\n",
        "import string\n",
        "import csv\n",
        "from sklearn.model_selection import train_test_split\n",
        "\n",
        "import tensorflow as tf\n",
        "from tensorflow import keras\n",
        "from keras.preprocessing.text import Tokenizer\n",
        "from keras.preprocessing.sequence import pad_sequences\n",
        "from tensorflow.keras.layers import LSTM, Dense, Input, Embedding, Concatenate, TimeDistributed, Bidirectional, GRU\n",
        "from tensorflow.keras.models import Model\n",
        "from tensorflow.keras.callbacks import EarlyStopping\n",
        "from tensorflow.keras.utils import plot_model\n",
        "from rouge import Rouge"
      ]
    },
    {
      "cell_type": "code",
      "execution_count": null,
      "id": "39b9c796",
      "metadata": {
        "papermill": {
          "duration": 0.007482,
          "end_time": "2023-04-16T08:42:12.304483",
          "exception": false,
          "start_time": "2023-04-16T08:42:12.297001",
          "status": "completed"
        },
        "tags": [],
        "id": "39b9c796"
      },
      "outputs": [],
      "source": []
    },
    {
      "cell_type": "markdown",
      "id": "4e1cafcf",
      "metadata": {
        "_cell_guid": "6c196dc5-f66d-4e53-8cad-0b222e9c1095",
        "_uuid": "cab41196-6e98-4986-bf7a-99a18aa55c09",
        "papermill": {
          "duration": 0.007408,
          "end_time": "2023-04-16T08:42:12.319610",
          "exception": false,
          "start_time": "2023-04-16T08:42:12.312202",
          "status": "completed"
        },
        "tags": [],
        "id": "4e1cafcf"
      },
      "source": [
        "# Preprocessing"
      ]
    },
    {
      "cell_type": "code",
      "execution_count": null,
      "id": "b30388c1",
      "metadata": {
        "_cell_guid": "de6e5895-4eaa-4ec1-bdc1-7c5ed54b75fb",
        "_uuid": "1f01cd78-a907-4696-892a-c4eceaa6daeb",
        "execution": {
          "iopub.execute_input": "2023-04-16T08:42:12.336469Z",
          "iopub.status.busy": "2023-04-16T08:42:12.335900Z",
          "iopub.status.idle": "2023-04-16T08:42:43.650024Z",
          "shell.execute_reply": "2023-04-16T08:42:43.649144Z"
        },
        "jupyter": {
          "outputs_hidden": false
        },
        "papermill": {
          "duration": 31.33232,
          "end_time": "2023-04-16T08:42:43.659612",
          "exception": false,
          "start_time": "2023-04-16T08:42:12.327292",
          "status": "completed"
        },
        "tags": [],
        "id": "b30388c1"
      },
      "outputs": [],
      "source": [
        "train_data = pd.read_csv('../input/newspaper-text-summarization-cnn-dailymail/cnn_dailymail/train.csv')\n",
        "test_data = pd.read_csv('../input/newspaper-text-summarization-cnn-dailymail/cnn_dailymail/test.csv')\n",
        "\n",
        "train_data.head()"
      ]
    },
    {
      "cell_type": "code",
      "execution_count": null,
      "id": "0e30f21f",
      "metadata": {
        "_cell_guid": "c05ac199-af00-4813-9bc9-bdd09a0b4ace",
        "_uuid": "f00d722d-e4a4-43be-ae9a-bf4190bc5a75",
        "execution": {
          "iopub.execute_input": "2023-04-16T08:42:43.677529Z",
          "iopub.status.busy": "2023-04-16T08:42:43.676765Z",
          "iopub.status.idle": "2023-04-16T08:42:43.687309Z",
          "shell.execute_reply": "2023-04-16T08:42:43.686528Z"
        },
        "jupyter": {
          "outputs_hidden": false
        },
        "papermill": {
          "duration": 0.021423,
          "end_time": "2023-04-16T08:42:43.688973",
          "exception": false,
          "start_time": "2023-04-16T08:42:43.667550",
          "status": "completed"
        },
        "tags": [],
        "id": "0e30f21f"
      },
      "outputs": [],
      "source": [
        "contractions = {\n",
        "\"ain't\": \"am not\",\n",
        "\"aren't\": \"are not\",\n",
        "\"can't\": \"cannot\",\n",
        "\"can't've\": \"cannot have\",\n",
        "\"'cause\": \"because\",\n",
        "\"could've\": \"could have\",\n",
        "\"couldn't\": \"could not\",\n",
        "\"couldn't've\": \"could not have\",\n",
        "\"didn't\": \"did not\",\n",
        "\"doesn't\": \"does not\",\n",
        "\"don't\": \"do not\",\n",
        "\"hadn't\": \"had not\",\n",
        "\"hadn't've\": \"had not have\",\n",
        "\"hasn't\": \"has not\",\n",
        "\"haven't\": \"have not\",\n",
        "\"he'd\": \"he would\",\n",
        "\"he'd've\": \"he would have\",\n",
        "\"he'll\": \"he will\",\n",
        "\"he's\": \"he is\",\n",
        "\"how'd\": \"how did\",\n",
        "\"how'll\": \"how will\",\n",
        "\"how's\": \"how is\",\n",
        "\"i'd\": \"i would\",\n",
        "\"i'll\": \"i will\",\n",
        "\"i'm\": \"i am\",\n",
        "\"i've\": \"i have\",\n",
        "\"isn't\": \"is not\",\n",
        "\"it'd\": \"it would\",\n",
        "\"it'll\": \"it will\",\n",
        "\"it's\": \"it is\",\n",
        "\"let's\": \"let us\",\n",
        "\"ma'am\": \"madam\",\n",
        "\"mayn't\": \"may not\",\n",
        "\"might've\": \"might have\",\n",
        "\"mightn't\": \"might not\",\n",
        "\"must've\": \"must have\",\n",
        "\"mustn't\": \"must not\",\n",
        "\"needn't\": \"need not\",\n",
        "\"oughtn't\": \"ought not\",\n",
        "\"shan't\": \"shall not\",\n",
        "\"sha'n't\": \"shall not\",\n",
        "\"she'd\": \"she would\",\n",
        "\"she'll\": \"she will\",\n",
        "\"she's\": \"she is\",\n",
        "\"should've\": \"should have\",\n",
        "\"shouldn't\": \"should not\",\n",
        "\"that'd\": \"that would\",\n",
        "\"that's\": \"that is\",\n",
        "\"there'd\": \"there had\",\n",
        "\"there's\": \"there is\",\n",
        "\"they'd\": \"they would\",\n",
        "\"they'll\": \"they will\",\n",
        "\"they're\": \"they are\",\n",
        "\"they've\": \"they have\",\n",
        "\"wasn't\": \"was not\",\n",
        "\"we'd\": \"we would\",\n",
        "\"we'll\": \"we will\",\n",
        "\"we're\": \"we are\",\n",
        "\"we've\": \"we have\",\n",
        "\"weren't\": \"were not\",\n",
        "\"what'll\": \"what will\",\n",
        "\"what're\": \"what are\",\n",
        "\"what's\": \"what is\",\n",
        "\"what've\": \"what have\",\n",
        "\"where'd\": \"where did\",\n",
        "\"where's\": \"where is\",\n",
        "\"who'll\": \"who will\",\n",
        "\"who's\": \"who is\",\n",
        "\"won't\": \"will not\",\n",
        "\"wouldn't\": \"would not\",\n",
        "\"you'd\": \"you would\",\n",
        "\"you'll\": \"you will\",\n",
        "\"you're\": \"you are\"\n",
        "}"
      ]
    },
    {
      "cell_type": "code",
      "execution_count": null,
      "id": "1d870ee8",
      "metadata": {
        "_cell_guid": "17d0f88c-a64d-40b2-92e6-3f70e10bf720",
        "_uuid": "a5191f3e-ce21-4893-ad9f-eb08c2e9b2b2",
        "execution": {
          "iopub.execute_input": "2023-04-16T08:42:43.706069Z",
          "iopub.status.busy": "2023-04-16T08:42:43.705790Z",
          "iopub.status.idle": "2023-04-16T08:42:43.714371Z",
          "shell.execute_reply": "2023-04-16T08:42:43.713678Z"
        },
        "jupyter": {
          "outputs_hidden": false
        },
        "papermill": {
          "duration": 0.019188,
          "end_time": "2023-04-16T08:42:43.716020",
          "exception": false,
          "start_time": "2023-04-16T08:42:43.696832",
          "status": "completed"
        },
        "tags": [],
        "id": "1d870ee8"
      },
      "outputs": [],
      "source": [
        "def clean_text(text, remove_stopwords=True):\n",
        "    text = text.lower()\n",
        "    text = text.split()\n",
        "    tmp = []\n",
        "    for word in text:\n",
        "        if word in contractions:\n",
        "            tmp.append(contractions[word])\n",
        "        else:\n",
        "            tmp.append(word)\n",
        "    text = ' '.join(tmp)\n",
        "\n",
        "    text = re.sub(r'https?:\\/\\/.*[\\r\\n]*', '', text, flags=re.MULTILINE)\n",
        "    text = re.sub(r'\\<a href', ' ', text)\n",
        "    text = re.sub(r'&amp;', '', text)\n",
        "    text = re.sub(r'[_\"\\-;%()|+&=*%.,!?:#$@\\[\\]/]', ' ', text)\n",
        "    text = re.sub(r'<br />', ' ', text)\n",
        "    text = re.sub(r'\\'', ' ', text)\n",
        "\n",
        "    if remove_stopwords:\n",
        "        text = text.split()\n",
        "        stops = set(stopwords.words('english'))\n",
        "        text = [w for w in text if w not in stops]\n",
        "        text = ' '.join(text)\n",
        "\n",
        "    return text"
      ]
    },
    {
      "cell_type": "code",
      "execution_count": null,
      "id": "59d5d669",
      "metadata": {
        "_cell_guid": "e4908abd-737d-4a30-9914-4cb9180b1f4d",
        "_uuid": "a01dbc3a-cc1c-41d7-9848-7f6ff8f74ced",
        "execution": {
          "iopub.execute_input": "2023-04-16T08:42:43.732696Z",
          "iopub.status.busy": "2023-04-16T08:42:43.732415Z",
          "iopub.status.idle": "2023-04-16T08:45:30.681645Z",
          "shell.execute_reply": "2023-04-16T08:45:30.680772Z"
        },
        "jupyter": {
          "outputs_hidden": false
        },
        "papermill": {
          "duration": 166.968013,
          "end_time": "2023-04-16T08:45:30.691830",
          "exception": false,
          "start_time": "2023-04-16T08:42:43.723817",
          "status": "completed"
        },
        "tags": [],
        "id": "59d5d669"
      },
      "outputs": [],
      "source": [
        "import nltk\n",
        "nltk.download('stopwords')\n",
        "from nltk.corpus import stopwords\n",
        "\n",
        "clean_summaries = []\n",
        "for summary in train_data.highlights:\n",
        "    clean_summaries.append(clean_text(summary, remove_stopwords=False))\n",
        "print('Cleaning Summaries Complete')\n",
        "\n",
        "clean_texts = []\n",
        "for text in train_data.article:\n",
        "    clean_texts.append(clean_text(text))\n",
        "print('Cleaning Texts Complete')\n",
        "del train_data"
      ]
    },
    {
      "cell_type": "code",
      "execution_count": null,
      "id": "79a3c0d2",
      "metadata": {
        "_cell_guid": "b69643e2-aa56-4ef9-960a-b58622199d9a",
        "_uuid": "c04efa35-f731-4597-8cc5-7c9ab9c65769",
        "execution": {
          "iopub.execute_input": "2023-04-16T08:45:30.709474Z",
          "iopub.status.busy": "2023-04-16T08:45:30.708776Z",
          "iopub.status.idle": "2023-04-16T08:45:30.944120Z",
          "shell.execute_reply": "2023-04-16T08:45:30.943295Z"
        },
        "jupyter": {
          "outputs_hidden": false
        },
        "papermill": {
          "duration": 0.2471,
          "end_time": "2023-04-16T08:45:30.946897",
          "exception": false,
          "start_time": "2023-04-16T08:45:30.699797",
          "status": "completed"
        },
        "tags": [],
        "id": "79a3c0d2"
      },
      "outputs": [],
      "source": [
        "clean_df = pd.DataFrame()\n",
        "clean_df['text'] = clean_texts[:110000]\n",
        "clean_df['summary'] = clean_summaries[:110000]\n",
        "clean_df['summary'].replace('', np.nan, inplace=True)\n",
        "clean_df.dropna(axis=0, inplace=True)\n",
        "\n",
        "clean_df['summary'] = clean_df['summary'].apply(lambda x: '<sostok>' + ' ' + x + ' ' + '<eostok>')\n",
        "del clean_texts\n",
        "del clean_summaries"
      ]
    },
    {
      "cell_type": "markdown",
      "id": "c9138609",
      "metadata": {
        "_cell_guid": "87d19bae-08c0-467e-99c9-7e12b8ee7717",
        "_uuid": "331aad08-2efb-4069-8f3e-638c52d05d40",
        "papermill": {
          "duration": 0.00882,
          "end_time": "2023-04-16T08:45:30.970142",
          "exception": false,
          "start_time": "2023-04-16T08:45:30.961322",
          "status": "completed"
        },
        "tags": [],
        "id": "c9138609"
      },
      "source": [
        "# Tokenizing Text And Summary Data"
      ]
    },
    {
      "cell_type": "code",
      "execution_count": null,
      "id": "4fcb9c7e",
      "metadata": {
        "execution": {
          "iopub.execute_input": "2023-04-16T08:45:30.987404Z",
          "iopub.status.busy": "2023-04-16T08:45:30.987044Z",
          "iopub.status.idle": "2023-04-16T08:45:31.017064Z",
          "shell.execute_reply": "2023-04-16T08:45:31.016287Z"
        },
        "papermill": {
          "duration": 0.040833,
          "end_time": "2023-04-16T08:45:31.018953",
          "exception": false,
          "start_time": "2023-04-16T08:45:30.978120",
          "status": "completed"
        },
        "tags": [],
        "id": "4fcb9c7e"
      },
      "outputs": [],
      "source": [
        "train_x, test_x, train_y, test_y = train_test_split(clean_df['text'], clean_df['summary'], test_size=0.1, random_state=0)\n",
        "del clean_df"
      ]
    },
    {
      "cell_type": "code",
      "execution_count": null,
      "id": "84c26d62",
      "metadata": {
        "execution": {
          "iopub.execute_input": "2023-04-16T08:45:31.036859Z",
          "iopub.status.busy": "2023-04-16T08:45:31.036551Z",
          "iopub.status.idle": "2023-04-16T08:46:18.462743Z",
          "shell.execute_reply": "2023-04-16T08:46:18.461818Z"
        },
        "papermill": {
          "duration": 47.43779,
          "end_time": "2023-04-16T08:46:18.465133",
          "exception": false,
          "start_time": "2023-04-16T08:45:31.027343",
          "status": "completed"
        },
        "tags": [],
        "id": "84c26d62"
      },
      "outputs": [],
      "source": [
        "t_tokenizer = Tokenizer()\n",
        "t_tokenizer.fit_on_texts(list(train_x))\n",
        "\n",
        "thresh = 4\n",
        "count = 0\n",
        "total_count = 0\n",
        "frequency = 0\n",
        "total_frequency = 0\n",
        "\n",
        "for key, value in t_tokenizer.word_counts.items():\n",
        "    total_count += 1\n",
        "    total_frequency += value\n",
        "    if value < thresh:\n",
        "        count += 1\n",
        "        frequency += value"
      ]
    },
    {
      "cell_type": "code",
      "execution_count": null,
      "id": "421a5833",
      "metadata": {
        "execution": {
          "iopub.execute_input": "2023-04-16T08:46:18.483257Z",
          "iopub.status.busy": "2023-04-16T08:46:18.482893Z",
          "iopub.status.idle": "2023-04-16T08:46:18.488218Z",
          "shell.execute_reply": "2023-04-16T08:46:18.487313Z"
        },
        "papermill": {
          "duration": 0.017825,
          "end_time": "2023-04-16T08:46:18.491500",
          "exception": false,
          "start_time": "2023-04-16T08:46:18.473675",
          "status": "completed"
        },
        "tags": [],
        "id": "421a5833"
      },
      "outputs": [],
      "source": [
        "print('% of rare words in vocabulary: ', (count/total_count)*100.0)\n",
        "print('Total Coverage of rare words: ', (frequency/total_frequency)*100.0)\n",
        "t_max_features = total_count - count\n",
        "print('Text Vocab: ', t_max_features)"
      ]
    },
    {
      "cell_type": "code",
      "execution_count": null,
      "id": "14f8fb81",
      "metadata": {
        "execution": {
          "iopub.execute_input": "2023-04-16T08:46:18.508928Z",
          "iopub.status.busy": "2023-04-16T08:46:18.508610Z",
          "iopub.status.idle": "2023-04-16T08:46:23.757371Z",
          "shell.execute_reply": "2023-04-16T08:46:23.756527Z"
        },
        "papermill": {
          "duration": 5.259844,
          "end_time": "2023-04-16T08:46:23.759429",
          "exception": false,
          "start_time": "2023-04-16T08:46:18.499585",
          "status": "completed"
        },
        "tags": [],
        "id": "14f8fb81"
      },
      "outputs": [],
      "source": [
        "s_tokenizer = Tokenizer()\n",
        "s_tokenizer.fit_on_texts(list(train_y))\n",
        "\n",
        "thresh = 6\n",
        "count = 0\n",
        "total_count = 0\n",
        "frequency = 0\n",
        "total_frequency = 0\n",
        "\n",
        "for key, value in s_tokenizer.word_counts.items():\n",
        "    total_count += 1\n",
        "    total_frequency += value\n",
        "    if value < thresh:\n",
        "        count += 1\n",
        "        frequency += value"
      ]
    },
    {
      "cell_type": "code",
      "execution_count": null,
      "id": "80fc12bd",
      "metadata": {
        "execution": {
          "iopub.execute_input": "2023-04-16T08:46:23.778895Z",
          "iopub.status.busy": "2023-04-16T08:46:23.778571Z",
          "iopub.status.idle": "2023-04-16T08:46:23.783747Z",
          "shell.execute_reply": "2023-04-16T08:46:23.782851Z"
        },
        "papermill": {
          "duration": 0.018072,
          "end_time": "2023-04-16T08:46:23.786853",
          "exception": false,
          "start_time": "2023-04-16T08:46:23.768781",
          "status": "completed"
        },
        "tags": [],
        "id": "80fc12bd"
      },
      "outputs": [],
      "source": [
        "print('% of rare words in vocabulary: ', (count/total_count)*100.0)\n",
        "print('Total Coverage of rare words: ', (frequency/total_frequency)*100.0)\n",
        "s_max_features = total_count-count\n",
        "print('Summary Vocab: ', s_max_features)"
      ]
    },
    {
      "cell_type": "code",
      "execution_count": null,
      "id": "65651890",
      "metadata": {
        "_cell_guid": "55be46d8-bad4-4353-b304-697c27873b95",
        "_uuid": "f118030d-4e56-42ac-8e07-25259682e521",
        "execution": {
          "iopub.execute_input": "2023-04-16T08:46:23.804145Z",
          "iopub.status.busy": "2023-04-16T08:46:23.803849Z",
          "iopub.status.idle": "2023-04-16T08:46:23.807760Z",
          "shell.execute_reply": "2023-04-16T08:46:23.806934Z"
        },
        "jupyter": {
          "outputs_hidden": false
        },
        "papermill": {
          "duration": 0.014334,
          "end_time": "2023-04-16T08:46:23.809418",
          "exception": false,
          "start_time": "2023-04-16T08:46:23.795084",
          "status": "completed"
        },
        "tags": [],
        "id": "65651890"
      },
      "outputs": [],
      "source": [
        "maxlen_text = 800\n",
        "maxlen_summ = 150"
      ]
    },
    {
      "cell_type": "code",
      "execution_count": null,
      "id": "f474f281",
      "metadata": {
        "_cell_guid": "c6e0639a-1d9f-4111-bdc3-37b634c465f9",
        "_uuid": "ca1ced9f-99c9-4adf-93c5-2014065e402b",
        "execution": {
          "iopub.execute_input": "2023-04-16T08:46:23.826470Z",
          "iopub.status.busy": "2023-04-16T08:46:23.826160Z",
          "iopub.status.idle": "2023-04-16T08:47:51.944198Z",
          "shell.execute_reply": "2023-04-16T08:47:51.943324Z"
        },
        "jupyter": {
          "outputs_hidden": false
        },
        "papermill": {
          "duration": 88.133068,
          "end_time": "2023-04-16T08:47:51.950450",
          "exception": false,
          "start_time": "2023-04-16T08:46:23.817382",
          "status": "completed"
        },
        "tags": [],
        "id": "f474f281"
      },
      "outputs": [],
      "source": [
        "val_x = test_x\n",
        "t_tokenizer = Tokenizer(num_words=t_max_features)\n",
        "t_tokenizer.fit_on_texts(list(train_x))\n",
        "train_x = t_tokenizer.texts_to_sequences(train_x)\n",
        "val_x = t_tokenizer.texts_to_sequences(val_x)\n",
        "\n",
        "train_x = pad_sequences(train_x, maxlen=maxlen_text, padding='post')\n",
        "val_x = pad_sequences(val_x, maxlen=maxlen_text, padding='post')"
      ]
    },
    {
      "cell_type": "code",
      "execution_count": null,
      "id": "c673bae3",
      "metadata": {
        "_cell_guid": "47cc7233-e0cb-41b1-9c00-e9da1874dc3c",
        "_uuid": "128e5cb3-ab67-439d-a170-eab7b17e365d",
        "execution": {
          "iopub.execute_input": "2023-04-16T08:47:51.971869Z",
          "iopub.status.busy": "2023-04-16T08:47:51.971474Z",
          "iopub.status.idle": "2023-04-16T08:48:01.806353Z",
          "shell.execute_reply": "2023-04-16T08:48:01.805481Z"
        },
        "jupyter": {
          "outputs_hidden": false
        },
        "papermill": {
          "duration": 9.85062,
          "end_time": "2023-04-16T08:48:01.809995",
          "exception": false,
          "start_time": "2023-04-16T08:47:51.959375",
          "status": "completed"
        },
        "tags": [],
        "id": "c673bae3"
      },
      "outputs": [],
      "source": [
        "val_y = test_y\n",
        "s_tokenizer = Tokenizer(num_words=s_max_features)\n",
        "s_tokenizer.fit_on_texts(list(train_y))\n",
        "train_y = s_tokenizer.texts_to_sequences(train_y)\n",
        "val_y = s_tokenizer.texts_to_sequences(val_y)\n",
        "\n",
        "train_y = pad_sequences(train_y, maxlen=maxlen_summ, padding='post')\n",
        "val_y = pad_sequences(val_y, maxlen=maxlen_summ, padding='post')"
      ]
    },
    {
      "cell_type": "code",
      "execution_count": null,
      "id": "03d6d5ea",
      "metadata": {
        "_cell_guid": "844064ed-fb75-4893-9e6b-8e6bf40b8a76",
        "_uuid": "33f72b41-9cf0-449b-b91a-b25f98a82b92",
        "execution": {
          "iopub.execute_input": "2023-04-16T08:48:01.828361Z",
          "iopub.status.busy": "2023-04-16T08:48:01.827996Z",
          "iopub.status.idle": "2023-04-16T08:48:01.832882Z",
          "shell.execute_reply": "2023-04-16T08:48:01.832117Z"
        },
        "jupyter": {
          "outputs_hidden": false
        },
        "papermill": {
          "duration": 0.016657,
          "end_time": "2023-04-16T08:48:01.835069",
          "exception": false,
          "start_time": "2023-04-16T08:48:01.818412",
          "status": "completed"
        },
        "tags": [],
        "id": "03d6d5ea"
      },
      "outputs": [],
      "source": [
        "print(\"Training Sequence\", train_x.shape)\n",
        "print('Target Values Shape', train_y.shape)\n",
        "print('Test Sequence', val_x.shape)\n",
        "print('Target Test Shape', val_y.shape)"
      ]
    },
    {
      "cell_type": "markdown",
      "id": "62220ede",
      "metadata": {
        "papermill": {
          "duration": 0.007947,
          "end_time": "2023-04-16T08:48:01.851674",
          "exception": false,
          "start_time": "2023-04-16T08:48:01.843727",
          "status": "completed"
        },
        "tags": [],
        "id": "62220ede"
      },
      "source": [
        "# Pretrained Embedding"
      ]
    },
    {
      "cell_type": "code",
      "execution_count": null,
      "id": "5649cb79",
      "metadata": {
        "execution": {
          "iopub.execute_input": "2023-04-16T08:48:01.869534Z",
          "iopub.status.busy": "2023-04-16T08:48:01.869065Z",
          "iopub.status.idle": "2023-04-16T08:48:11.321820Z",
          "shell.execute_reply": "2023-04-16T08:48:11.320965Z"
        },
        "papermill": {
          "duration": 9.46419,
          "end_time": "2023-04-16T08:48:11.323992",
          "exception": false,
          "start_time": "2023-04-16T08:48:01.859802",
          "status": "completed"
        },
        "tags": [],
        "id": "5649cb79"
      },
      "outputs": [],
      "source": [
        "embeding_index = {}\n",
        "embed_dim = 100\n",
        "with open('../input/glove6b/glove.6B.100d.txt') as f:\n",
        "    for line in f:\n",
        "        values = line.split()\n",
        "        word = values[0]\n",
        "        coefs = np.asarray(values[1:], dtype='float32')\n",
        "        embeding_index[word] = coefs"
      ]
    },
    {
      "cell_type": "code",
      "execution_count": null,
      "id": "f97b22b3",
      "metadata": {
        "execution": {
          "iopub.execute_input": "2023-04-16T08:48:11.342020Z",
          "iopub.status.busy": "2023-04-16T08:48:11.341646Z",
          "iopub.status.idle": "2023-04-16T08:48:11.709885Z",
          "shell.execute_reply": "2023-04-16T08:48:11.709012Z"
        },
        "papermill": {
          "duration": 0.379817,
          "end_time": "2023-04-16T08:48:11.712206",
          "exception": false,
          "start_time": "2023-04-16T08:48:11.332389",
          "status": "completed"
        },
        "tags": [],
        "id": "f97b22b3"
      },
      "outputs": [],
      "source": [
        "t_embed = np.zeros((t_max_features, embed_dim))\n",
        "for word, i in t_tokenizer.word_index.items():\n",
        "    vec = embeding_index.get(word)\n",
        "    if i < t_max_features and vec is not None:\n",
        "        t_embed[i] = vec"
      ]
    },
    {
      "cell_type": "code",
      "execution_count": null,
      "id": "3275814b",
      "metadata": {
        "execution": {
          "iopub.execute_input": "2023-04-16T08:48:11.730529Z",
          "iopub.status.busy": "2023-04-16T08:48:11.730027Z",
          "iopub.status.idle": "2023-04-16T08:48:11.841919Z",
          "shell.execute_reply": "2023-04-16T08:48:11.841079Z"
        },
        "papermill": {
          "duration": 0.123302,
          "end_time": "2023-04-16T08:48:11.843994",
          "exception": false,
          "start_time": "2023-04-16T08:48:11.720692",
          "status": "completed"
        },
        "tags": [],
        "id": "3275814b"
      },
      "outputs": [],
      "source": [
        "s_embed = np.zeros((s_max_features, embed_dim))\n",
        "for word, i in s_tokenizer.word_index.items():\n",
        "    vec = embeding_index.get(word)\n",
        "    if i < s_max_features and vec is not None:\n",
        "        s_embed[i] = vec"
      ]
    },
    {
      "cell_type": "code",
      "execution_count": null,
      "id": "baeb651c",
      "metadata": {
        "execution": {
          "iopub.execute_input": "2023-04-16T08:48:11.861956Z",
          "iopub.status.busy": "2023-04-16T08:48:11.861621Z",
          "iopub.status.idle": "2023-04-16T08:48:11.954455Z",
          "shell.execute_reply": "2023-04-16T08:48:11.953441Z"
        },
        "papermill": {
          "duration": 0.106338,
          "end_time": "2023-04-16T08:48:11.958858",
          "exception": false,
          "start_time": "2023-04-16T08:48:11.852520",
          "status": "completed"
        },
        "tags": [],
        "id": "baeb651c"
      },
      "outputs": [],
      "source": [
        "del embeding_index"
      ]
    },
    {
      "cell_type": "markdown",
      "id": "5ca9f748",
      "metadata": {
        "_cell_guid": "a8ed3f5d-f1b8-444c-81f9-aade517501ca",
        "_uuid": "b14a774c-7f88-4295-8a77-54ce44b5f495",
        "papermill": {
          "duration": 0.011349,
          "end_time": "2023-04-16T08:48:11.982324",
          "exception": false,
          "start_time": "2023-04-16T08:48:11.970975",
          "status": "completed"
        },
        "tags": [],
        "id": "5ca9f748"
      },
      "source": [
        "# Model Architecture"
      ]
    },
    {
      "cell_type": "code",
      "execution_count": null,
      "id": "3447d8c7",
      "metadata": {
        "_cell_guid": "45ea7085-3ec5-4bc6-a8ad-644051b87647",
        "_uuid": "8a652996-c534-45fd-a61b-95eeb3f6674a",
        "execution": {
          "iopub.execute_input": "2023-04-16T08:48:12.013051Z",
          "iopub.status.busy": "2023-04-16T08:48:12.012686Z",
          "iopub.status.idle": "2023-04-16T08:48:16.513968Z",
          "shell.execute_reply": "2023-04-16T08:48:16.512950Z"
        },
        "jupyter": {
          "outputs_hidden": false
        },
        "papermill": {
          "duration": 4.523204,
          "end_time": "2023-04-16T08:48:16.516087",
          "exception": false,
          "start_time": "2023-04-16T08:48:11.992883",
          "status": "completed"
        },
        "tags": [],
        "id": "3447d8c7"
      },
      "outputs": [],
      "source": [
        "latent_dim = 128\n",
        "# Encoder\n",
        "enc_input = Input(shape=(maxlen_text, ))\n",
        "enc_embed = Embedding(t_max_features, embed_dim, input_length=maxlen_text, weights=[t_embed], trainable=False)(enc_input)\n",
        "# h_lstm = LSTM(latent_dim, return_sequences=True, return_state=True)\n",
        "# h_out, _, _ = h_lstm(enc_embed)\n",
        "enc_lstm = Bidirectional(LSTM(latent_dim, return_state=True))\n",
        "enc_output, enc_fh, enc_fc, enc_bh, enc_bc = enc_lstm(enc_embed)\n",
        "enc_h = Concatenate(axis=-1, name='enc_h')([enc_fh, enc_bh])\n",
        "enc_c = Concatenate(axis=-1, name='enc_c')([enc_fc, enc_bc])\n",
        "#Decoder\n",
        "dec_input = Input(shape=(None, ))\n",
        "dec_embed = Embedding(s_max_features, embed_dim, weights=[s_embed], trainable=False)(dec_input)\n",
        "dec_lstm = LSTM(latent_dim*2, return_sequences=True, return_state=True, dropout=0.3, recurrent_dropout=0.2)\n",
        "dec_outputs, _, _ = dec_lstm(dec_embed, initial_state=[enc_h, enc_c])\n",
        "\n",
        "dec_dense = TimeDistributed(Dense(s_max_features, activation='softmax'))\n",
        "dec_output = dec_dense(dec_outputs)\n",
        "\n",
        "model = Model([enc_input, dec_input], dec_output)\n",
        "model.summary()\n",
        "\n",
        "plot_model(\n",
        "    model,\n",
        "    to_file='./LSTM.png',\n",
        "    show_shapes=True,\n",
        "    show_layer_names=True,\n",
        "    rankdir='TB',\n",
        "    expand_nested=False,\n",
        "    dpi=96)"
      ]
    },
    {
      "cell_type": "code",
      "execution_count": null,
      "id": "29506426",
      "metadata": {
        "execution": {
          "iopub.execute_input": "2023-04-16T08:48:16.537064Z",
          "iopub.status.busy": "2023-04-16T08:48:16.536731Z",
          "iopub.status.idle": "2023-04-16T09:53:43.446020Z",
          "shell.execute_reply": "2023-04-16T09:53:43.445109Z"
        },
        "papermill": {
          "duration": 3926.921885,
          "end_time": "2023-04-16T09:53:43.447904",
          "exception": false,
          "start_time": "2023-04-16T08:48:16.526019",
          "status": "completed"
        },
        "tags": [],
        "id": "29506426"
      },
      "outputs": [],
      "source": [
        "model.compile(loss='sparse_categorical_crossentropy', optimizer='rmsprop')\n",
        "early_stop = keras.callbacks.EarlyStopping(monitor='val_loss', mode='min', verbose=1, patience=2)\n",
        "model.fit([train_x, train_y[:, :-1]], train_y.reshape(train_y.shape[0], train_y.shape[1], 1)[:, 1:], epochs=5, callbacks=[early_stop], batch_size=128, verbose=1, validation_data=([val_x, val_y[:, :-1]], val_y.reshape(val_y.shape[0], val_y.shape[1], 1)[:, 1:]))"
      ]
    },
    {
      "cell_type": "markdown",
      "id": "5d2e3775",
      "metadata": {
        "_cell_guid": "e5c1d9a7-3572-400f-9571-09c67bb88b6b",
        "_uuid": "d668c65c-7022-4884-b9aa-0d2a3708fbde",
        "papermill": {
          "duration": 0.253492,
          "end_time": "2023-04-16T09:53:43.905020",
          "exception": false,
          "start_time": "2023-04-16T09:53:43.651528",
          "status": "completed"
        },
        "tags": [],
        "id": "5d2e3775"
      },
      "source": [
        "# Inference"
      ]
    },
    {
      "cell_type": "code",
      "execution_count": null,
      "id": "d78f365b",
      "metadata": {
        "_cell_guid": "5dc9b6e7-aebd-4f8d-affa-895cfa85797c",
        "_uuid": "089e3dce-4433-4d7b-bbc8-a507640345d6",
        "execution": {
          "iopub.execute_input": "2023-04-16T09:53:44.314553Z",
          "iopub.status.busy": "2023-04-16T09:53:44.314175Z",
          "iopub.status.idle": "2023-04-16T09:53:44.417707Z",
          "shell.execute_reply": "2023-04-16T09:53:44.416869Z"
        },
        "jupyter": {
          "outputs_hidden": false
        },
        "papermill": {
          "duration": 0.310894,
          "end_time": "2023-04-16T09:53:44.419843",
          "exception": false,
          "start_time": "2023-04-16T09:53:44.108949",
          "status": "completed"
        },
        "tags": [],
        "id": "d78f365b"
      },
      "outputs": [],
      "source": [
        "enc_model = Model(inputs=enc_input, outputs=[enc_h, enc_c])\n",
        "\n",
        "dec_init_state_h = Input(shape=(latent_dim*2, ))\n",
        "dec_init_state_c = Input(shape=(latent_dim*2, ))\n",
        "\n",
        "dec_out, dec_h, dec_c = dec_lstm(dec_embed, initial_state=[dec_init_state_h, dec_init_state_c])\n",
        "dec_final = dec_dense(dec_out)\n",
        "\n",
        "dec_model = Model([dec_input]+[dec_init_state_h, dec_init_state_c], [dec_final]+[dec_h, dec_c])"
      ]
    },
    {
      "cell_type": "code",
      "execution_count": null,
      "id": "a2d8e7a1",
      "metadata": {
        "execution": {
          "iopub.execute_input": "2023-04-16T09:53:44.832098Z",
          "iopub.status.busy": "2023-04-16T09:53:44.831176Z",
          "iopub.status.idle": "2023-04-16T09:53:45.176537Z",
          "shell.execute_reply": "2023-04-16T09:53:45.175687Z"
        },
        "papermill": {
          "duration": 0.552508,
          "end_time": "2023-04-16T09:53:45.178989",
          "exception": false,
          "start_time": "2023-04-16T09:53:44.626481",
          "status": "completed"
        },
        "tags": [],
        "id": "a2d8e7a1"
      },
      "outputs": [],
      "source": [
        "import pickle\n",
        "\n",
        "# Save encoder model\n",
        "enc_model.save('./encoder_model.h5')\n",
        "\n",
        "# Save decoder model\n",
        "dec_model.save('./decoder_model.h5')\n",
        "\n",
        "# Save tokenizer\n",
        "with open('./s_tokenizer.pkl', 'wb') as f:\n",
        "    pickle.dump(s_tokenizer, f)\n"
      ]
    },
    {
      "cell_type": "code",
      "execution_count": null,
      "id": "f4469477",
      "metadata": {
        "_cell_guid": "d3e1c276-aa68-477c-a535-438027aa50f0",
        "_uuid": "89a14f36-0948-4970-b640-68b99380d3c4",
        "execution": {
          "iopub.execute_input": "2023-04-16T09:53:45.585985Z",
          "iopub.status.busy": "2023-04-16T09:53:45.585623Z",
          "iopub.status.idle": "2023-04-16T09:53:45.593203Z",
          "shell.execute_reply": "2023-04-16T09:53:45.592311Z"
        },
        "jupyter": {
          "outputs_hidden": false
        },
        "papermill": {
          "duration": 0.213968,
          "end_time": "2023-04-16T09:53:45.595411",
          "exception": false,
          "start_time": "2023-04-16T09:53:45.381443",
          "status": "completed"
        },
        "tags": [],
        "id": "f4469477"
      },
      "outputs": [],
      "source": [
        "def generate_summary(input_seq):\n",
        "    h, c = enc_model.predict(input_seq)\n",
        "\n",
        "    next_token = np.zeros((1, 1))\n",
        "    next_token[0, 0] = s_tokenizer.word_index['sostok']\n",
        "    output_seq = ''\n",
        "\n",
        "    stop = False\n",
        "    count = 0\n",
        "\n",
        "    while not stop:\n",
        "        if count > 100:\n",
        "            break\n",
        "        decoder_out, state_h, state_c = dec_model.predict([next_token]+[h, c])\n",
        "        token_idx = np.argmax(decoder_out[0, -1, :])\n",
        "\n",
        "        if token_idx == s_tokenizer.word_index['eostok']:\n",
        "            stop = True\n",
        "        elif token_idx > 0 and token_idx != s_tokenizer.word_index['sostok']:\n",
        "            token = s_tokenizer.index_word[token_idx]\n",
        "            output_seq = output_seq + ' ' + token\n",
        "\n",
        "        next_token = np.zeros((1, 1))\n",
        "        next_token[0, 0] = token_idx\n",
        "        h, c = state_h, state_c\n",
        "        count += 1\n",
        "\n",
        "    return output_seq"
      ]
    },
    {
      "cell_type": "code",
      "execution_count": null,
      "id": "649cdd50",
      "metadata": {
        "_cell_guid": "f60a4ffe-5637-4a30-b2f4-45c068fe5393",
        "_uuid": "4718c311-f0da-4c72-9fb4-0ad2f5cd866a",
        "execution": {
          "iopub.execute_input": "2023-04-16T09:53:46.100705Z",
          "iopub.status.busy": "2023-04-16T09:53:46.100312Z",
          "iopub.status.idle": "2023-04-16T09:53:56.674268Z",
          "shell.execute_reply": "2023-04-16T09:53:56.673394Z"
        },
        "jupyter": {
          "outputs_hidden": false
        },
        "papermill": {
          "duration": 10.856666,
          "end_time": "2023-04-16T09:53:56.676530",
          "exception": false,
          "start_time": "2023-04-16T09:53:45.819864",
          "status": "completed"
        },
        "tags": [],
        "id": "649cdd50"
      },
      "outputs": [],
      "source": [
        "test_inputs = [clean_text(sent) for sent in test_data.source_text]\n",
        "test_inputs = t_tokenizer.texts_to_sequences(list(test_inputs))\n",
        "test_inputs = pad_sequences(test_inputs, maxlen=maxlen_text, padding='post')"
      ]
    },
    {
      "cell_type": "code",
      "execution_count": null,
      "id": "3ecfbf9c",
      "metadata": {
        "_cell_guid": "a904fd33-301e-4e3f-9410-9eb6858413cb",
        "_uuid": "b4820a8c-ef74-4b08-8eae-d89f487fa4bf",
        "execution": {
          "iopub.execute_input": "2023-04-16T09:53:57.087915Z",
          "iopub.status.busy": "2023-04-16T09:53:57.087554Z",
          "iopub.status.idle": "2023-04-16T10:15:04.189829Z",
          "shell.execute_reply": "2023-04-16T10:15:04.188831Z"
        },
        "jupyter": {
          "outputs_hidden": false
        },
        "papermill": {
          "duration": 1267.310459,
          "end_time": "2023-04-16T10:15:04.192296",
          "exception": false,
          "start_time": "2023-04-16T09:53:56.881837",
          "status": "completed"
        },
        "tags": [],
        "id": "3ecfbf9c"
      },
      "outputs": [],
      "source": [
        "hyps = []\n",
        "with open('./result.csv', 'w') as f:\n",
        "    writer = csv.writer(f)\n",
        "    writer.writerow(['Article', 'Original Summary', 'Model Output'])\n",
        "    for i in range(500):\n",
        "        our_summ = generate_summary(test_inputs[i].reshape(1, maxlen_text))\n",
        "        hyps.append(our_summ)\n",
        "        writer.writerow([test_data.article[i], test_data.highlights[i], our_summ])"
      ]
    },
    {
      "cell_type": "markdown",
      "source": [
        "Sequence to Sequence model"
      ],
      "metadata": {
        "id": "A5pI0arEAEaG"
      },
      "id": "A5pI0arEAEaG"
    },
    {
      "cell_type": "code",
      "execution_count": null,
      "id": "4335ff45",
      "metadata": {
        "execution": {
          "iopub.execute_input": "2023-04-16T10:15:04.610183Z",
          "iopub.status.busy": "2023-04-16T10:15:04.609824Z",
          "iopub.status.idle": "2023-04-16T10:15:04.619698Z",
          "shell.execute_reply": "2023-04-16T10:15:04.618921Z"
        },
        "papermill": {
          "duration": 0.221796,
          "end_time": "2023-04-16T10:15:04.621519",
          "exception": false,
          "start_time": "2023-04-16T10:15:04.399723",
          "status": "completed"
        },
        "scrolled": true,
        "tags": [],
        "id": "4335ff45"
      },
      "outputs": [],
      "source": [
        "import tensorflow as tf\n",
        "import numpy as np\n",
        "import pickle\n",
        "\n",
        "def generate2_summary2(input_text):\n",
        "    # Load the tokenizer\n",
        "    with open('./s_tokenizer.pkl', 'rb') as f:\n",
        "        s_tokenizer = pickle.load(f)\n",
        "\n",
        "    # Load the model\n",
        "    enc_model = tf.keras.models.load_model('./encoder_model.h5')\n",
        "    dec_model = tf.keras.models.load_model('./decoder_model.h5')\n",
        "\n",
        "    # Tokenize the input text\n",
        "    input_seq = s_tokenizer.texts_to_sequences([input_text])\n",
        "    input_seq = tf.keras.preprocessing.sequence.pad_sequences(input_seq, maxlen=800, padding='post')\n",
        "\n",
        "    # Generate the summary\n",
        "    h, c = enc_model.predict(input_seq)\n",
        "\n",
        "    next_token = np.zeros((1, 1))\n",
        "    next_token[0, 0] = s_tokenizer.word_index['sostok']\n",
        "    output_seq = ''\n",
        "\n",
        "    stop = False\n",
        "    count = 0\n",
        "\n",
        "    while not stop:\n",
        "        if count > 100:\n",
        "            break\n",
        "        decoder_out, state_h, state_c = dec_model.predict([next_token]+[h, c])\n",
        "        token_idx = np.argmax(decoder_out[0, -1, :])\n",
        "\n",
        "        if token_idx == s_tokenizer.word_index['eostok']:\n",
        "            stop = True\n",
        "        elif token_idx > 0 and token_idx != s_tokenizer.word_index['sostok']:\n",
        "            token = s_tokenizer.index_word[token_idx]\n",
        "            output_seq = output_seq + ' ' + token\n",
        "\n",
        "        next_token = np.zeros((1, 1))\n",
        "        next_token[0, 0] = token_idx\n",
        "        h, c = state_h, state_c\n",
        "        count += 1\n",
        "\n",
        "    return output_seq.strip()\n"
      ]
    },
    {
      "cell_type": "code",
      "execution_count": null,
      "id": "f02f2a5a",
      "metadata": {
        "execution": {
          "iopub.execute_input": "2023-04-16T10:15:05.093013Z",
          "iopub.status.busy": "2023-04-16T10:15:05.092175Z",
          "iopub.status.idle": "2023-04-16T10:15:08.428487Z",
          "shell.execute_reply": "2023-04-16T10:15:08.427586Z"
        },
        "papermill": {
          "duration": 3.600484,
          "end_time": "2023-04-16T10:15:08.430303",
          "exception": false,
          "start_time": "2023-04-16T10:15:04.829819",
          "status": "completed"
        },
        "tags": [],
        "id": "f02f2a5a"
      },
      "outputs": [],
      "source": [
        "text = \"Egypt has one of the longest histories of any country, tracing its heritage along the Nile Delta back to the 6th–4th millennia BCE. Considered a cradle of civilisation, Ancient Egypt saw some of the earliest developments of writing, agriculture, urbanisation, organised religion and central government.[14] Iconic monuments such as the Giza Necropolis and its Great Sphinx, as well the ruins of Memphis, Thebes, Karnak, and the Valley of the Kings, reflect this legacy and remain a significant focus of scientific and popular interest. Egypt's long and rich cultural heritage is an integral part of its national identity, which reflects its unique transcontinental location being simultaneously Mediterranean, Middle Eastern and North African.[15] Egypt was an early and important centre of Christianity, but was largely Islamised in the seventh century and remains a predominantly Sunni Muslim country, albeit with a significant Christian minority, along with other lesser practiced faiths.\"\n",
        "get_sum_for_text = generate2_summary2(text)\n",
        "print(get_sum_for_text)"
      ]
    },
    {
      "cell_type": "code",
      "source": [
        "test_inputs2 = [clean_text(text) for text in test_data.source_text]\n",
        "test_inputs2 = t_tokenizer.texts_to_sequences(list(test_inputs2))\n",
        "test_inputs2 = pad_sequences(test_inputs2, maxlen=maxlen_text, padding='post')"
      ],
      "metadata": {
        "id": "Y7RewH_0AuaH"
      },
      "id": "Y7RewH_0AuaH",
      "execution_count": null,
      "outputs": []
    },
    {
      "cell_type": "code",
      "source": [
        "hyps2 = []\n",
        "with open('./result.csv', 'w') as f:\n",
        "    writer = csv.writer(f)\n",
        "    writer.writerow(['Article', 'Original Summary', 'Model Output'])\n",
        "    for i in range(500):\n",
        "        our_summ = generate_summary(test_inputs2[i].reshape(1, maxlen_text))\n",
        "        hyps.append(our_summ)\n",
        "        writer.writerow([test_data.article[i], test_data.highlights[i], our_summ])"
      ],
      "metadata": {
        "id": "SIhNeG46BQBl"
      },
      "id": "SIhNeG46BQBl",
      "execution_count": null,
      "outputs": []
    },
    {
      "cell_type": "markdown",
      "id": "d974a0b4",
      "metadata": {
        "papermill": {
          "duration": 0.210003,
          "end_time": "2023-04-16T10:15:08.846337",
          "exception": false,
          "start_time": "2023-04-16T10:15:08.636334",
          "status": "completed"
        },
        "tags": [],
        "id": "d974a0b4"
      },
      "source": [
        "# ROUGE score"
      ]
    },
    {
      "cell_type": "code",
      "execution_count": null,
      "id": "1e8c7a46",
      "metadata": {
        "papermill": {
          "duration": null,
          "end_time": null,
          "exception": null,
          "start_time": null,
          "status": "pending"
        },
        "tags": [],
        "id": "1e8c7a46"
      },
      "outputs": [],
      "source": [
        "rouge = Rouge()\n",
        "LSTM_rouge_score = rouge.get_scores(hyps, test_data.target_text, avg=True, ignore_empty=True)"
      ]
    },
    {
      "cell_type": "code",
      "source": [
        "rouge = Rouge()\n",
        "sq2seq_rouge_score = rouge.get_scores(hyps2, test_data.target_text, avg=True, ignore_empty=True)"
      ],
      "metadata": {
        "id": "VNy22NzoBxTB"
      },
      "id": "VNy22NzoBxTB",
      "execution_count": null,
      "outputs": []
    },
    {
      "cell_type": "code",
      "execution_count": null,
      "id": "afed1b77",
      "metadata": {
        "papermill": {
          "duration": null,
          "end_time": null,
          "exception": null,
          "start_time": null,
          "status": "pending"
        },
        "tags": [],
        "id": "afed1b77"
      },
      "outputs": [],
      "source": []
    }
  ],
  "metadata": {
    "kernelspec": {
      "display_name": "Python 3",
      "name": "python3"
    },
    "language_info": {
      "codemirror_mode": {
        "name": "ipython",
        "version": 3
      },
      "file_extension": ".py",
      "mimetype": "text/x-python",
      "name": "python",
      "nbconvert_exporter": "python",
      "pygments_lexer": "ipython3",
      "version": "3.7.12"
    },
    "papermill": {
      "default_parameters": {},
      "duration": 5604.837262,
      "end_time": "2023-04-16T10:15:12.697762",
      "environment_variables": {},
      "exception": true,
      "input_path": "__notebook__.ipynb",
      "output_path": "__notebook__.ipynb",
      "parameters": {},
      "start_time": "2023-04-16T08:41:47.860500",
      "version": "2.3.4"
    },
    "colab": {
      "provenance": []
    }
  },
  "nbformat": 4,
  "nbformat_minor": 5
}